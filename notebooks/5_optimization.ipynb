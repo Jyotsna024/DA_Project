{
 "cells": [
  {
   "cell_type": "code",
   "execution_count": 1,
   "id": "4656f0ad",
   "metadata": {},
   "outputs": [
    {
     "name": "stdout",
     "output_type": "stream",
     "text": [
      "   date  predicted_sales\n",
      "0   0.0         0.810927\n",
      "Optimization successful. Updated inventory levels:\n",
      "   date  predicted_sales  optimized_inventory\n",
      "0   0.0         0.810927                  1.0\n",
      "Optimized inventory levels saved to './outputs/optimized_inventory.csv'\n"
     ]
    }
   ],
   "source": [
    "import pandas as pd\n",
    "import numpy as np\n",
    "from pulp import LpProblem, LpMinimize, LpVariable, lpSum\n",
    "\n",
    "# Load forecasted sales data\n",
    "forecasted_sales = pd.read_csv('./outputs/forecasted_sales.csv')\n",
    "\n",
    "# Validate that data is loaded correctly\n",
    "print(forecasted_sales.head())\n",
    "\n",
    "# Define inventory parameters\n",
    "safety_stock = 50  # Safety stock level\n",
    "reorder_point = 100  # Reorder threshold\n",
    "max_inventory_per_day = 100  # Maximum inventory per day\n",
    "cost_per_unit_inventory = 5  # Cost per unit of inventory\n",
    "\n",
    "# Calculate basic optimal inventory levels\n",
    "forecasted_sales['optimal_inventory'] = np.maximum(\n",
    "    forecasted_sales['predicted_sales'] + safety_stock - reorder_point, 0\n",
    ")\n",
    "\n",
    "# Linear Programming Model for Inventory Optimization\n",
    "model = LpProblem(\"Inventory_Optimization\", LpMinimize)\n",
    "\n",
    "# Create decision variables for inventory ordering\n",
    "inventory_vars = [\n",
    "    LpVariable(f\"inventory_{i}\", lowBound=0, cat=\"Integer\")\n",
    "    for i in range(len(forecasted_sales))\n",
    "]\n",
    "\n",
    "# Objective: Minimize inventory holding cost\n",
    "model += lpSum([inventory_vars[i] * cost_per_unit_inventory for i in range(len(inventory_vars))])\n",
    "\n",
    "# Constraints\n",
    "for i, row in forecasted_sales.iterrows():\n",
    "    # Inventory must be sufficient to cover predicted sales\n",
    "    model += inventory_vars[i] + row['optimal_inventory'] >= row['predicted_sales'], f\"Stockout_{i}\"\n",
    "    # Inventory ordered must not exceed the maximum inventory per day\n",
    "    model += inventory_vars[i] <= max_inventory_per_day, f\"MaxInventory_{i}\"\n",
    "\n",
    "# Solve the optimization problem\n",
    "model.solve()\n",
    "\n",
    "# Update DataFrame with optimized inventory levels\n",
    "if model.status == 1:  # Check if the solution is optimal\n",
    "    forecasted_sales['optimized_inventory'] = [inventory_var.varValue for inventory_var in inventory_vars]\n",
    "    print(\"Optimization successful. Updated inventory levels:\")\n",
    "    print(forecasted_sales[['date', 'predicted_sales', 'optimized_inventory']])\n",
    "else:\n",
    "    print(\"No optimal solution found.\")\n",
    "\n",
    "# Save optimized inventory levels to CSV\n",
    "output_path = './outputs/optimized_inventory.csv'\n",
    "forecasted_sales[['date', 'predicted_sales', 'optimized_inventory']].to_csv(output_path, index=False)\n",
    "print(f\"Optimized inventory levels saved to '{output_path}'\")\n"
   ]
  },
  {
   "cell_type": "code",
   "execution_count": null,
   "id": "d34446fa",
   "metadata": {},
   "outputs": [],
   "source": []
  }
 ],
 "metadata": {
  "kernelspec": {
   "display_name": "Python 3",
   "language": "python",
   "name": "python3"
  },
  "language_info": {
   "codemirror_mode": {
    "name": "ipython",
    "version": 3
   },
   "file_extension": ".py",
   "mimetype": "text/x-python",
   "name": "python",
   "nbconvert_exporter": "python",
   "pygments_lexer": "ipython3",
   "version": "3.12.4"
  }
 },
 "nbformat": 4,
 "nbformat_minor": 5
}
