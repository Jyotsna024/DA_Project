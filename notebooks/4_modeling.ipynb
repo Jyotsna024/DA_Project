{
 "cells": [
  {
   "cell_type": "code",
   "execution_count": 1,
   "id": "d70e922a",
   "metadata": {},
   "outputs": [],
   "source": [
    "import pandas as pd\n",
    "import numpy as np\n",
    "from sklearn.model_selection import train_test_split\n",
    "from sklearn.linear_model import LinearRegression\n",
    "from sklearn.metrics import mean_squared_error\n",
    "import matplotlib.pyplot as plt\n"
   ]
  },
  {
   "cell_type": "code",
   "execution_count": 2,
   "id": "19c960e0",
   "metadata": {},
   "outputs": [
    {
     "data": {
      "text/html": [
       "<div>\n",
       "<style scoped>\n",
       "    .dataframe tbody tr th:only-of-type {\n",
       "        vertical-align: middle;\n",
       "    }\n",
       "\n",
       "    .dataframe tbody tr th {\n",
       "        vertical-align: top;\n",
       "    }\n",
       "\n",
       "    .dataframe thead th {\n",
       "        text-align: right;\n",
       "    }\n",
       "</style>\n",
       "<table border=\"1\" class=\"dataframe\">\n",
       "  <thead>\n",
       "    <tr style=\"text-align: right;\">\n",
       "      <th></th>\n",
       "      <th>Store</th>\n",
       "      <th>Dept</th>\n",
       "      <th>Weekly_Sales</th>\n",
       "      <th>CPI</th>\n",
       "      <th>Unemployment</th>\n",
       "      <th>MarkDown1</th>\n",
       "      <th>MarkDown2</th>\n",
       "      <th>Date_2023-01-02</th>\n",
       "      <th>Date_2023-01-03</th>\n",
       "    </tr>\n",
       "  </thead>\n",
       "  <tbody>\n",
       "    <tr>\n",
       "      <th>0</th>\n",
       "      <td>0.0</td>\n",
       "      <td>0.0</td>\n",
       "      <td>0.0</td>\n",
       "      <td>0.0</td>\n",
       "      <td>0.0</td>\n",
       "      <td>0.0</td>\n",
       "      <td>0.0</td>\n",
       "      <td>0.0</td>\n",
       "      <td>0.0</td>\n",
       "    </tr>\n",
       "    <tr>\n",
       "      <th>1</th>\n",
       "      <td>0.5</td>\n",
       "      <td>0.5</td>\n",
       "      <td>0.5</td>\n",
       "      <td>0.5</td>\n",
       "      <td>0.5</td>\n",
       "      <td>0.0</td>\n",
       "      <td>0.5</td>\n",
       "      <td>1.0</td>\n",
       "      <td>0.0</td>\n",
       "    </tr>\n",
       "    <tr>\n",
       "      <th>2</th>\n",
       "      <td>1.0</td>\n",
       "      <td>1.0</td>\n",
       "      <td>1.0</td>\n",
       "      <td>1.0</td>\n",
       "      <td>1.0</td>\n",
       "      <td>0.0</td>\n",
       "      <td>1.0</td>\n",
       "      <td>0.0</td>\n",
       "      <td>1.0</td>\n",
       "    </tr>\n",
       "  </tbody>\n",
       "</table>\n",
       "</div>"
      ],
      "text/plain": [
       "   Store  Dept  Weekly_Sales  CPI  Unemployment  MarkDown1  MarkDown2  \\\n",
       "0    0.0   0.0           0.0  0.0           0.0        0.0        0.0   \n",
       "1    0.5   0.5           0.5  0.5           0.5        0.0        0.5   \n",
       "2    1.0   1.0           1.0  1.0           1.0        0.0        1.0   \n",
       "\n",
       "   Date_2023-01-02  Date_2023-01-03  \n",
       "0              0.0              0.0  \n",
       "1              1.0              0.0  \n",
       "2              0.0              1.0  "
      ]
     },
     "execution_count": 2,
     "metadata": {},
     "output_type": "execute_result"
    }
   ],
   "source": [
    "# Load the dataset\n",
    "data_path = 'outputs/processed_data/processed_features.csv'\n",
    "df = pd.read_csv(data_path)\n",
    "\n",
    "# Check the first few rows of the dataframe\n",
    "df.head()\n"
   ]
  },
  {
   "cell_type": "code",
   "execution_count": 5,
   "id": "ba6a5dd6",
   "metadata": {},
   "outputs": [
    {
     "name": "stdout",
     "output_type": "stream",
     "text": [
      "   Store  Dept  Weekly_Sales  CPI  Unemployment  MarkDown1  MarkDown2  \\\n",
      "0    0.0   0.0           0.0  0.0           0.0        0.0        0.0   \n",
      "1    0.5   0.5           0.5  0.5           0.5        0.0        0.5   \n",
      "2    1.0   1.0           1.0  1.0           1.0        0.0        1.0   \n",
      "\n",
      "   Date_2023-01-02  Date_2023-01-03  Synthetic_Sales  \n",
      "0              0.0              0.0         1.237652  \n",
      "1              1.0              0.0         0.996488  \n",
      "2              0.0              1.0         2.295417  \n"
     ]
    }
   ],
   "source": [
    "# Create a synthetic target column using available columns\n",
    "df['Synthetic_Sales'] = (df['CPI'] * 0.5 + df['Unemployment'] * 0.3 + df['MarkDown1'] * 0.1 + df['MarkDown2'] * 0.1) + np.random.normal(0, 1, len(df))\n",
    "\n",
    "# Check the first few rows to ensure the new column is created\n",
    "print(df.head())"
   ]
  },
  {
   "cell_type": "code",
   "execution_count": 7,
   "id": "b8f73fc9",
   "metadata": {},
   "outputs": [
    {
     "name": "stdout",
     "output_type": "stream",
     "text": [
      "Mean Squared Error: 0.18209382851849534\n",
      "   Actual_Sales  Predicted_Sales\n",
      "0      1.237652         0.810927\n"
     ]
    }
   ],
   "source": [
    "# Separate features (X) and target (y)\n",
    "target_column = 'Synthetic_Sales'  # Synthetic sales column\n",
    "X = df.drop(columns=[target_column])  # Dropping the target column from the features\n",
    "y = df[target_column]\n",
    "\n",
    "# Split the data into training and testing sets (80-20 split)\n",
    "from sklearn.model_selection import train_test_split\n",
    "X_train, X_test, y_train, y_test = train_test_split(X, y, test_size=0.2, random_state=42)\n",
    "\n",
    "# Train a linear regression model\n",
    "from sklearn.linear_model import LinearRegression\n",
    "model = LinearRegression()\n",
    "model.fit(X_train, y_train)\n",
    "\n",
    "# Predict on the test set\n",
    "y_pred = model.predict(X_test)\n",
    "\n",
    "# Calculate and print the mean squared error of the model\n",
    "from sklearn.metrics import mean_squared_error\n",
    "mse = mean_squared_error(y_test, y_pred)\n",
    "print(f\"Mean Squared Error: {mse}\")\n",
    "\n",
    "# Store the forecasted sales (predictions)\n",
    "forecasted_sales = pd.DataFrame({'Actual_Sales': y_test, 'Predicted_Sales': y_pred})\n",
    "\n",
    "# Print the first few rows of the forecasted sales\n",
    "print(forecasted_sales.head())\n"
   ]
  },
  {
   "cell_type": "code",
   "execution_count": 8,
   "id": "3b959750",
   "metadata": {},
   "outputs": [
    {
     "data": {
      "image/png": "[encoded data removed]",
      "text/plain": [
       "<Figure size 1000x600 with 1 Axes>"
      ]
     },
     "metadata": {},
     "output_type": "display_data"
    },
    {
     "name": "stdout",
     "output_type": "stream",
     "text": [
      "Forecasted sales saved to './outputs/forecasted_sales.csv'\n"
     ]
    }
   ],
   "source": [
    "import matplotlib.pyplot as plt\n",
    "\n",
    "# Plot the predicted vs. actual sales\n",
    "plt.figure(figsize=(10, 6))\n",
    "plt.scatter(y_test, y_pred, color='blue', alpha=0.6)\n",
    "plt.plot([y_test.min(), y_test.max()], [y_test.min(), y_test.max()], color='red', linestyle='--')  # Diagonal line\n",
    "plt.xlabel('Actual Sales')\n",
    "plt.ylabel('Predicted Sales')\n",
    "plt.title('Actual vs Predicted Sales')\n",
    "plt.show()\n",
    "\n",
    "# Prepare forecasted data with dates\n",
    "# Assuming your dataset has a date column; if not, create a synthetic one\n",
    "if 'Date_2023-01-02' in df.columns:\n",
    "    forecasted_data = pd.DataFrame({\n",
    "        'date': X_test['Date_2023-01-02'],  # Use the actual date column from X_test\n",
    "        'predicted_sales': y_pred\n",
    "    })\n",
    "else:\n",
    "    forecasted_data = pd.DataFrame({\n",
    "        'date': pd.date_range(start='2025-01-01', periods=len(y_pred)),  # Synthetic dates\n",
    "        'predicted_sales': y_pred\n",
    "    })\n",
    "\n",
    "# Save the forecasted data to outputs folder\n",
    "forecasted_data.to_csv('./outputs/forecasted_sales.csv', index=False)\n",
    "\n",
    "print(\"Forecasted sales saved to './outputs/forecasted_sales.csv'\")\n"
   ]
  },
  {
   "cell_type": "code",
   "execution_count": 9,
   "id": "139f55d5",
   "metadata": {},
   "outputs": [
    {
     "name": "stdout",
     "output_type": "stream",
     "text": [
      "   date  predicted_sales\n",
      "0   0.0         0.810927\n",
      "Shape of forecasted data: (1, 2)\n"
     ]
    }
   ],
   "source": [
    "# Load the saved forecasted sales data to validate\n",
    "forecasted_df = pd.read_csv('./outputs/forecasted_sales.csv')\n",
    "\n",
    "# Display the first few rows of the forecasted sales data\n",
    "print(forecasted_df.head())\n",
    "\n",
    "# Optionally, you can check the shape of the data and ensure it's consistent\n",
    "print(f\"Shape of forecasted data: {forecasted_df.shape}\")\n"
   ]
  },
  {
   "cell_type": "code",
   "execution_count": null,
   "id": "2df0e137",
   "metadata": {},
   "outputs": [],
   "source": []
  }
 ],
 "metadata": {
  "kernelspec": {
   "display_name": "Python 3",
   "language": "python",
   "name": "python3"
  },
  "language_info": {
   "codemirror_mode": {
    "name": "ipython",
    "version": 3
   },
   "file_extension": ".py",
   "mimetype": "text/x-python",
   "name": "python",
   "nbconvert_exporter": "python",
   "pygments_lexer": "ipython3",
   "version": "3.12.4"
  }
 },
 "nbformat": 4,
 "nbformat_minor": 5
}
